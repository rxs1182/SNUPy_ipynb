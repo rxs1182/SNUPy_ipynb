{
 "cells": [
  {
   "attachments": {},
   "cell_type": "markdown",
   "metadata": {},
   "source": [
    "# Analysis of Benchmarking data\n",
    "## Author: Rohan Singh"
   ]
  },
  {
   "attachments": {},
   "cell_type": "markdown",
   "metadata": {},
   "source": [
    "## Imports"
   ]
  },
  {
   "cell_type": "code",
   "execution_count": 13,
   "metadata": {},
   "outputs": [],
   "source": [
    "# Data Manipulation imports\n",
    "import pandas as pd\n",
    "import numpy as np\n",
    "\n",
    "# Data Analysis imports\n",
    "import statistics\n",
    "from sklearn.model_selection import train_test_split\n",
    "from sklearn.linear_model import LinearRegression\n",
    "from sklearn.preprocessing import PolynomialFeatures\n",
    "\n",
    "# Graphing imports\n",
    "import plotly.express as px\n",
    "import matplotlib.pyplot as plt\n"
   ]
  },
  {
   "attachments": {},
   "cell_type": "markdown",
   "metadata": {},
   "source": [
    "## Data Preprocessing"
   ]
  },
  {
   "cell_type": "code",
   "execution_count": 58,
   "metadata": {},
   "outputs": [],
   "source": [
    "df_main = pd.read_csv(\"/Users/rohansingh/Downloads/Benchmark Data - Sheet1.csv\")"
   ]
  },
  {
   "cell_type": "code",
   "execution_count": 60,
   "metadata": {},
   "outputs": [
    {
     "data": {
      "text/html": [
       "<div>\n",
       "<style scoped>\n",
       "    .dataframe tbody tr th:only-of-type {\n",
       "        vertical-align: middle;\n",
       "    }\n",
       "\n",
       "    .dataframe tbody tr th {\n",
       "        vertical-align: top;\n",
       "    }\n",
       "\n",
       "    .dataframe thead th {\n",
       "        text-align: right;\n",
       "    }\n",
       "</style>\n",
       "<table border=\"1\" class=\"dataframe\">\n",
       "  <thead>\n",
       "    <tr style=\"text-align: right;\">\n",
       "      <th></th>\n",
       "      <th>N = 10, Sorted Array</th>\n",
       "      <th>Unnamed: 1</th>\n",
       "      <th>Unnamed: 2</th>\n",
       "      <th>N=20, Sorted Ascending</th>\n",
       "      <th>Unnamed: 4</th>\n",
       "      <th>Unnamed: 5</th>\n",
       "      <th>N=50, Sorted</th>\n",
       "      <th>Unnamed: 7</th>\n",
       "      <th>Unnamed: 8</th>\n",
       "      <th>N = 100</th>\n",
       "      <th>...</th>\n",
       "      <th>Unnamed: 16</th>\n",
       "      <th>Unnamed: 17</th>\n",
       "      <th>Results for arrays of size 1000</th>\n",
       "      <th>Unnamed: 19</th>\n",
       "      <th>Unnamed: 20</th>\n",
       "      <th>Results for arrays of size 2000</th>\n",
       "      <th>Unnamed: 22</th>\n",
       "      <th>Unnamed: 23</th>\n",
       "      <th>Results for arrays of size 5000</th>\n",
       "      <th>Unnamed: 25</th>\n",
       "    </tr>\n",
       "  </thead>\n",
       "  <tbody>\n",
       "    <tr>\n",
       "      <th>0</th>\n",
       "      <td>Sort Type</td>\n",
       "      <td>NanoSeconds</td>\n",
       "      <td>NaN</td>\n",
       "      <td>Sort Type</td>\n",
       "      <td>NanoSeconds</td>\n",
       "      <td>NaN</td>\n",
       "      <td>Sort Type</td>\n",
       "      <td>NanoSeconds</td>\n",
       "      <td>NaN</td>\n",
       "      <td>Sorted array</td>\n",
       "      <td>...</td>\n",
       "      <td>NaN</td>\n",
       "      <td>NaN</td>\n",
       "      <td>Sort Type</td>\n",
       "      <td>NanoSeconds</td>\n",
       "      <td>NaN</td>\n",
       "      <td>Ascending</td>\n",
       "      <td>NanoSeconds</td>\n",
       "      <td>NaN</td>\n",
       "      <td>Sorted array</td>\n",
       "      <td>NaN</td>\n",
       "    </tr>\n",
       "    <tr>\n",
       "      <th>1</th>\n",
       "      <td>Insertion</td>\n",
       "      <td>4337</td>\n",
       "      <td>NaN</td>\n",
       "      <td>Insertion Sort time</td>\n",
       "      <td>9420</td>\n",
       "      <td>NaN</td>\n",
       "      <td>Insertion Sort time</td>\n",
       "      <td>41040</td>\n",
       "      <td>NaN</td>\n",
       "      <td>Insertion Sort time</td>\n",
       "      <td>...</td>\n",
       "      <td>2861000</td>\n",
       "      <td>NaN</td>\n",
       "      <td>Insertion Sort time</td>\n",
       "      <td>4993020</td>\n",
       "      <td>NaN</td>\n",
       "      <td>Insertion Sort time</td>\n",
       "      <td>33779843</td>\n",
       "      <td>NaN</td>\n",
       "      <td>Insertion Sort time</td>\n",
       "      <td>141400421.0</td>\n",
       "    </tr>\n",
       "    <tr>\n",
       "      <th>2</th>\n",
       "      <td>Bubble</td>\n",
       "      <td>3161</td>\n",
       "      <td>NaN</td>\n",
       "      <td>Bubble Sort time</td>\n",
       "      <td>6875</td>\n",
       "      <td>NaN</td>\n",
       "      <td>Bubble Sort time</td>\n",
       "      <td>30133</td>\n",
       "      <td>NaN</td>\n",
       "      <td>Bubble Sort time</td>\n",
       "      <td>...</td>\n",
       "      <td>2738139</td>\n",
       "      <td>NaN</td>\n",
       "      <td>Bubble Sort time</td>\n",
       "      <td>29860762</td>\n",
       "      <td>NaN</td>\n",
       "      <td>Bubble Sort time</td>\n",
       "      <td>34345405</td>\n",
       "      <td>NaN</td>\n",
       "      <td>Bubble Sort time</td>\n",
       "      <td>33514767.0</td>\n",
       "    </tr>\n",
       "    <tr>\n",
       "      <th>3</th>\n",
       "      <td>Shell</td>\n",
       "      <td>4364</td>\n",
       "      <td>NaN</td>\n",
       "      <td>Shell Sort time</td>\n",
       "      <td>5798</td>\n",
       "      <td>NaN</td>\n",
       "      <td>Shell Sort time</td>\n",
       "      <td>10607</td>\n",
       "      <td>NaN</td>\n",
       "      <td>Shell Sort time</td>\n",
       "      <td>...</td>\n",
       "      <td>149880</td>\n",
       "      <td>NaN</td>\n",
       "      <td>Shell Sort time</td>\n",
       "      <td>304701</td>\n",
       "      <td>NaN</td>\n",
       "      <td>Shell Sort time</td>\n",
       "      <td>880375</td>\n",
       "      <td>NaN</td>\n",
       "      <td>Shell Sort time</td>\n",
       "      <td>2182743.0</td>\n",
       "    </tr>\n",
       "    <tr>\n",
       "      <th>4</th>\n",
       "      <td>Quick</td>\n",
       "      <td>8149</td>\n",
       "      <td>NaN</td>\n",
       "      <td>Quick Sort time</td>\n",
       "      <td>12970</td>\n",
       "      <td>NaN</td>\n",
       "      <td>Quick Sort time</td>\n",
       "      <td>21551</td>\n",
       "      <td>NaN</td>\n",
       "      <td>Quick Sort time</td>\n",
       "      <td>...</td>\n",
       "      <td>200570</td>\n",
       "      <td>NaN</td>\n",
       "      <td>Quick Sort time</td>\n",
       "      <td>400788</td>\n",
       "      <td>NaN</td>\n",
       "      <td>Quick Sort time</td>\n",
       "      <td>843111</td>\n",
       "      <td>NaN</td>\n",
       "      <td>Quick Sort time</td>\n",
       "      <td>1961791.0</td>\n",
       "    </tr>\n",
       "  </tbody>\n",
       "</table>\n",
       "<p>5 rows × 26 columns</p>\n",
       "</div>"
      ],
      "text/plain": [
       "  N = 10, Sorted Array   Unnamed: 1  Unnamed: 2 N=20, Sorted Ascending   \n",
       "0            Sort Type  NanoSeconds         NaN              Sort Type  \\\n",
       "1            Insertion         4337         NaN    Insertion Sort time   \n",
       "2               Bubble         3161         NaN       Bubble Sort time   \n",
       "3                Shell         4364         NaN        Shell Sort time   \n",
       "4                Quick         8149         NaN        Quick Sort time   \n",
       "\n",
       "    Unnamed: 4  Unnamed: 5         N=50, Sorted   Unnamed: 7  Unnamed: 8   \n",
       "0  NanoSeconds         NaN            Sort Type  NanoSeconds         NaN  \\\n",
       "1         9420         NaN  Insertion Sort time        41040         NaN   \n",
       "2         6875         NaN     Bubble Sort time        30133         NaN   \n",
       "3         5798         NaN      Shell Sort time        10607         NaN   \n",
       "4        12970         NaN      Quick Sort time        21551         NaN   \n",
       "\n",
       "               N = 100  ...  Unnamed: 16  Unnamed: 17   \n",
       "0         Sorted array  ...          NaN          NaN  \\\n",
       "1  Insertion Sort time  ...      2861000          NaN   \n",
       "2     Bubble Sort time  ...      2738139          NaN   \n",
       "3      Shell Sort time  ...       149880          NaN   \n",
       "4      Quick Sort time  ...       200570          NaN   \n",
       "\n",
       "  Results for arrays of size 1000  Unnamed: 19  Unnamed: 20   \n",
       "0                       Sort Type  NanoSeconds          NaN  \\\n",
       "1             Insertion Sort time      4993020          NaN   \n",
       "2                Bubble Sort time     29860762          NaN   \n",
       "3                 Shell Sort time       304701          NaN   \n",
       "4                 Quick Sort time       400788          NaN   \n",
       "\n",
       "  Results for arrays of size 2000  Unnamed: 22  Unnamed: 23   \n",
       "0                       Ascending  NanoSeconds          NaN  \\\n",
       "1             Insertion Sort time     33779843          NaN   \n",
       "2                Bubble Sort time     34345405          NaN   \n",
       "3                 Shell Sort time       880375          NaN   \n",
       "4                 Quick Sort time       843111          NaN   \n",
       "\n",
       "  Results for arrays of size 5000  Unnamed: 25  \n",
       "0                    Sorted array          NaN  \n",
       "1             Insertion Sort time  141400421.0  \n",
       "2                Bubble Sort time   33514767.0  \n",
       "3                 Shell Sort time    2182743.0  \n",
       "4                 Quick Sort time    1961791.0  \n",
       "\n",
       "[5 rows x 26 columns]"
      ]
     },
     "execution_count": 60,
     "metadata": {},
     "output_type": "execute_result"
    }
   ],
   "source": [
    "df_main.head()"
   ]
  },
  {
   "cell_type": "code",
   "execution_count": 6,
   "metadata": {},
   "outputs": [
    {
     "data": {
      "text/plain": [
       "N = 10, Sorted Array                         Insertion\n",
       "Unnamed: 1                                        4337\n",
       "Unnamed: 2                                         NaN\n",
       "N=20, Sorted Ascending             Insertion Sort time\n",
       "Unnamed: 4                                        9420\n",
       "Unnamed: 5                                         NaN\n",
       "N=50, Sorted                       Insertion Sort time\n",
       "Unnamed: 7                                       41040\n",
       "Unnamed: 8                                         NaN\n",
       "N = 100                            Insertion Sort time\n",
       "Unnamed: 10                                   178998.0\n",
       "Unnamed: 11                                        NaN\n",
       "Results for arrays of size 200     Insertion Sort time\n",
       "Unnamed: 13                                   621841.0\n",
       "Unnamed: 14                                        NaN\n",
       "Results for arrays of size 500     Insertion Sort time\n",
       "Unnamed: 16                                    2861000\n",
       "Unnamed: 17                                        NaN\n",
       "Results for arrays of size 1000    Insertion Sort time\n",
       "Unnamed: 19                                    4993020\n",
       "Unnamed: 20                                        NaN\n",
       "Results for arrays of size 2000    Insertion Sort time\n",
       "Unnamed: 22                                   33779843\n",
       "Unnamed: 23                                        NaN\n",
       "Results for arrays of size 5000    Insertion Sort time\n",
       "Unnamed: 25                                141400421.0\n",
       "Name: 1, dtype: object"
      ]
     },
     "execution_count": 6,
     "metadata": {},
     "output_type": "execute_result"
    }
   ],
   "source": [
    "temp = df_main.T[1]"
   ]
  },
  {
   "cell_type": "code",
   "execution_count": 9,
   "metadata": {},
   "outputs": [
    {
     "data": {
      "text/plain": [
       "Unnamed: 1            4337\n",
       "Unnamed: 4            9420\n",
       "Unnamed: 7           41040\n",
       "Unnamed: 10       178998.0\n",
       "Unnamed: 13       621841.0\n",
       "Unnamed: 16        2861000\n",
       "Unnamed: 19        4993020\n",
       "Unnamed: 22       33779843\n",
       "Unnamed: 25    141400421.0\n",
       "Name: 1, dtype: object"
      ]
     },
     "execution_count": 9,
     "metadata": {},
     "output_type": "execute_result"
    }
   ],
   "source": [
    "temp = df_main.T[pd.to_numeric(df_main.T[1], errors='coerce').notnull()]\n",
    "temp[1]"
   ]
  },
  {
   "cell_type": "code",
   "execution_count": 66,
   "metadata": {},
   "outputs": [
    {
     "data": {
      "text/plain": [
       "float"
      ]
     },
     "execution_count": 66,
     "metadata": {},
     "output_type": "execute_result"
    }
   ],
   "source": [
    "#statistics.mean(temp[1].to_list())\n",
    "type(float(temp[1].iloc[0]))"
   ]
  },
  {
   "cell_type": "code",
   "execution_count": 11,
   "metadata": {},
   "outputs": [],
   "source": [
    "x = np.array([10,20,50,100,200,500,1000,2000,5000]).reshape(-1,1)\n",
    "y =  temp[1].to_numpy().reshape(-1,1)"
   ]
  },
  {
   "cell_type": "code",
   "execution_count": 55,
   "metadata": {},
   "outputs": [],
   "source": [
    "x_train, x_test, y_train, y_test = train_test_split(x,y,test_size=0.3)"
   ]
  },
  {
   "attachments": {},
   "cell_type": "markdown",
   "metadata": {},
   "source": [
    "## Data Analysis using Linear Regression"
   ]
  },
  {
   "cell_type": "code",
   "execution_count": 56,
   "metadata": {},
   "outputs": [
    {
     "data": {
      "text/plain": [
       "0.5272676535110761"
      ]
     },
     "execution_count": 56,
     "metadata": {},
     "output_type": "execute_result"
    }
   ],
   "source": [
    "\n",
    "\n",
    "regr = LinearRegression()\n",
    "\n",
    "regr.fit(x_train, y_train)\n",
    "\n",
    "regr.score(x_test,y_test)"
   ]
  },
  {
   "attachments": {},
   "cell_type": "markdown",
   "metadata": {},
   "source": [
    "## Data Analysis using Polynomial Regression"
   ]
  },
  {
   "cell_type": "code",
   "execution_count": 57,
   "metadata": {},
   "outputs": [
    {
     "data": {
      "text/plain": [
       "0.8308361386896146"
      ]
     },
     "execution_count": 57,
     "metadata": {},
     "output_type": "execute_result"
    }
   ],
   "source": [
    "poly = PolynomialFeatures(degree=2, include_bias=False)\n",
    "\n",
    "poly_features = poly.fit_transform(x_train)\n",
    "\n",
    "poly_test = poly.fit_transform(x_test)\n",
    "\n",
    "poly_reg_model = LinearRegression()\n",
    "\n",
    "poly_reg_model.fit(poly_features, y_train)\n",
    "\n",
    "poly_reg_model.score(poly_test,y_test)\n"
   ]
  }
 ],
 "metadata": {
  "kernelspec": {
   "display_name": "Transformer",
   "language": "python",
   "name": "python3"
  },
  "language_info": {
   "codemirror_mode": {
    "name": "ipython",
    "version": 3
   },
   "file_extension": ".py",
   "mimetype": "text/x-python",
   "name": "python",
   "nbconvert_exporter": "python",
   "pygments_lexer": "ipython3",
   "version": "3.9.16"
  },
  "orig_nbformat": 4
 },
 "nbformat": 4,
 "nbformat_minor": 2
}
