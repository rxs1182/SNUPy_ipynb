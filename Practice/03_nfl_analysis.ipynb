{
 "cells": [
  {
   "attachments": {},
   "cell_type": "markdown",
   "metadata": {},
   "source": [
    "# NFL Analysis\n",
    "## Author: Rohan Singh"
   ]
  },
  {
   "attachments": {},
   "cell_type": "markdown",
   "metadata": {},
   "source": [
    "## Imports"
   ]
  },
  {
   "cell_type": "code",
   "execution_count": 10,
   "metadata": {},
   "outputs": [],
   "source": [
    "# Data Manipulation imports\n",
    "import pandas as pd\n",
    "import numpy as np\n",
    "\n",
    "# Data Analysis imports\n",
    "import statistics\n",
    "from sklearn.model_selection import train_test_split\n",
    "from sklearn.linear_model import LinearRegression, LogisticRegression\n",
    "from sklearn.preprocessing import PolynomialFeatures\n",
    "\n",
    "# Graphing imports\n",
    "import plotly.express as px\n",
    "import matplotlib.pyplot as plt\n",
    "import plotly.io as pio\n",
    "pio.renderers.default = \"browser\""
   ]
  },
  {
   "attachments": {},
   "cell_type": "markdown",
   "metadata": {},
   "source": [
    "## Data Preprocessing"
   ]
  },
  {
   "cell_type": "code",
   "execution_count": 2,
   "metadata": {},
   "outputs": [],
   "source": [
    "df = pd.read_csv(\"/Users/rohansingh/github_repos/Artificial_Intelligence/AI-based implementations/Iris classification/NFL_Analysis.csv\")"
   ]
  },
  {
   "cell_type": "code",
   "execution_count": 3,
   "metadata": {},
   "outputs": [
    {
     "data": {
      "text/html": [
       "<div>\n",
       "<style scoped>\n",
       "    .dataframe tbody tr th:only-of-type {\n",
       "        vertical-align: middle;\n",
       "    }\n",
       "\n",
       "    .dataframe tbody tr th {\n",
       "        vertical-align: top;\n",
       "    }\n",
       "\n",
       "    .dataframe thead th {\n",
       "        text-align: right;\n",
       "    }\n",
       "</style>\n",
       "<table border=\"1\" class=\"dataframe\">\n",
       "  <thead>\n",
       "    <tr style=\"text-align: right;\">\n",
       "      <th></th>\n",
       "      <th>Player</th>\n",
       "      <th>Air Yards per Attempt</th>\n",
       "      <th>Passer Rating</th>\n",
       "      <th>Total yards per game</th>\n",
       "      <th>Touchdown-Interception ratio</th>\n",
       "      <th>Classification</th>\n",
       "    </tr>\n",
       "  </thead>\n",
       "  <tbody>\n",
       "    <tr>\n",
       "      <th>0</th>\n",
       "      <td>Lamar Jackson</td>\n",
       "      <td>8.9</td>\n",
       "      <td>11.33</td>\n",
       "      <td>290.1</td>\n",
       "      <td>5.9</td>\n",
       "      <td>1</td>\n",
       "    </tr>\n",
       "    <tr>\n",
       "      <th>1</th>\n",
       "      <td>Patrick Mahomes</td>\n",
       "      <td>8.1</td>\n",
       "      <td>10.54</td>\n",
       "      <td>305.6</td>\n",
       "      <td>4.1</td>\n",
       "      <td>1</td>\n",
       "    </tr>\n",
       "    <tr>\n",
       "      <th>2</th>\n",
       "      <td>Josh Allen</td>\n",
       "      <td>7.6</td>\n",
       "      <td>9.87</td>\n",
       "      <td>317.8</td>\n",
       "      <td>3.7</td>\n",
       "      <td>1</td>\n",
       "    </tr>\n",
       "    <tr>\n",
       "      <th>3</th>\n",
       "      <td>Justin Herbert</td>\n",
       "      <td>7.1</td>\n",
       "      <td>10.13</td>\n",
       "      <td>325.1</td>\n",
       "      <td>3.1</td>\n",
       "      <td>1</td>\n",
       "    </tr>\n",
       "    <tr>\n",
       "      <th>4</th>\n",
       "      <td>Tom Brady</td>\n",
       "      <td>6.9</td>\n",
       "      <td>9.67</td>\n",
       "      <td>301.3</td>\n",
       "      <td>4.5</td>\n",
       "      <td>1</td>\n",
       "    </tr>\n",
       "    <tr>\n",
       "      <th>5</th>\n",
       "      <td>Aaron Rodgers</td>\n",
       "      <td>7.8</td>\n",
       "      <td>11.06</td>\n",
       "      <td>250.6</td>\n",
       "      <td>5.8</td>\n",
       "      <td>1</td>\n",
       "    </tr>\n",
       "    <tr>\n",
       "      <th>6</th>\n",
       "      <td>Kyler Murray</td>\n",
       "      <td>6.5</td>\n",
       "      <td>8.05</td>\n",
       "      <td>234.1</td>\n",
       "      <td>2.7</td>\n",
       "      <td>0</td>\n",
       "    </tr>\n",
       "    <tr>\n",
       "      <th>7</th>\n",
       "      <td>Sam Darnold</td>\n",
       "      <td>6.1</td>\n",
       "      <td>6.03</td>\n",
       "      <td>201.7</td>\n",
       "      <td>0.8</td>\n",
       "      <td>0</td>\n",
       "    </tr>\n",
       "    <tr>\n",
       "      <th>8</th>\n",
       "      <td>Joe Burrow</td>\n",
       "      <td>5.4</td>\n",
       "      <td>9.01</td>\n",
       "      <td>254.3</td>\n",
       "      <td>2.8</td>\n",
       "      <td>0</td>\n",
       "    </tr>\n",
       "    <tr>\n",
       "      <th>9</th>\n",
       "      <td>Derek Carr</td>\n",
       "      <td>5.7</td>\n",
       "      <td>8.05</td>\n",
       "      <td>287.6</td>\n",
       "      <td>1.9</td>\n",
       "      <td>0</td>\n",
       "    </tr>\n",
       "    <tr>\n",
       "      <th>10</th>\n",
       "      <td>Jacoby Brissett</td>\n",
       "      <td>5.3</td>\n",
       "      <td>8.76</td>\n",
       "      <td>216.7</td>\n",
       "      <td>0.9</td>\n",
       "      <td>0</td>\n",
       "    </tr>\n",
       "    <tr>\n",
       "      <th>11</th>\n",
       "      <td>Matt Ryan</td>\n",
       "      <td>7.1</td>\n",
       "      <td>10.15</td>\n",
       "      <td>287.8</td>\n",
       "      <td>7.1</td>\n",
       "      <td>1</td>\n",
       "    </tr>\n",
       "    <tr>\n",
       "      <th>12</th>\n",
       "      <td>Ben Roethlisberger</td>\n",
       "      <td>5.4</td>\n",
       "      <td>9.01</td>\n",
       "      <td>254.3</td>\n",
       "      <td>2.8</td>\n",
       "      <td>0</td>\n",
       "    </tr>\n",
       "    <tr>\n",
       "      <th>13</th>\n",
       "      <td>Baker Mayfield</td>\n",
       "      <td>5.7</td>\n",
       "      <td>8.05</td>\n",
       "      <td>287.6</td>\n",
       "      <td>1.9</td>\n",
       "      <td>0</td>\n",
       "    </tr>\n",
       "    <tr>\n",
       "      <th>14</th>\n",
       "      <td>Kirk Cousins</td>\n",
       "      <td>5.3</td>\n",
       "      <td>8.76</td>\n",
       "      <td>216.7</td>\n",
       "      <td>0.9</td>\n",
       "      <td>0</td>\n",
       "    </tr>\n",
       "  </tbody>\n",
       "</table>\n",
       "</div>"
      ],
      "text/plain": [
       "                Player  Air Yards per Attempt  Passer Rating   \n",
       "0        Lamar Jackson                    8.9          11.33  \\\n",
       "1      Patrick Mahomes                    8.1          10.54   \n",
       "2           Josh Allen                    7.6           9.87   \n",
       "3       Justin Herbert                    7.1          10.13   \n",
       "4            Tom Brady                    6.9           9.67   \n",
       "5        Aaron Rodgers                    7.8          11.06   \n",
       "6         Kyler Murray                    6.5           8.05   \n",
       "7          Sam Darnold                    6.1           6.03   \n",
       "8           Joe Burrow                    5.4           9.01   \n",
       "9           Derek Carr                    5.7           8.05   \n",
       "10     Jacoby Brissett                    5.3           8.76   \n",
       "11           Matt Ryan                    7.1          10.15   \n",
       "12  Ben Roethlisberger                    5.4           9.01   \n",
       "13      Baker Mayfield                    5.7           8.05   \n",
       "14        Kirk Cousins                    5.3           8.76   \n",
       "\n",
       "    Total yards per game  Touchdown-Interception ratio  Classification  \n",
       "0                  290.1                           5.9               1  \n",
       "1                  305.6                           4.1               1  \n",
       "2                  317.8                           3.7               1  \n",
       "3                  325.1                           3.1               1  \n",
       "4                  301.3                           4.5               1  \n",
       "5                  250.6                           5.8               1  \n",
       "6                  234.1                           2.7               0  \n",
       "7                  201.7                           0.8               0  \n",
       "8                  254.3                           2.8               0  \n",
       "9                  287.6                           1.9               0  \n",
       "10                 216.7                           0.9               0  \n",
       "11                 287.8                           7.1               1  \n",
       "12                 254.3                           2.8               0  \n",
       "13                 287.6                           1.9               0  \n",
       "14                 216.7                           0.9               0  "
      ]
     },
     "execution_count": 3,
     "metadata": {},
     "output_type": "execute_result"
    }
   ],
   "source": [
    "df"
   ]
  },
  {
   "cell_type": "code",
   "execution_count": 7,
   "metadata": {},
   "outputs": [],
   "source": [
    "# Getting the feature variables\n",
    "x = df[[\"Air Yards per Attempt\",\"Passer Rating\",\"Total yards per game\",\"Touchdown-Interception ratio\"]].to_numpy()\n",
    "\n",
    "# Getting the target variable\n",
    "y = df[\"Classification\"].to_numpy().reshape(-1,1)\n"
   ]
  },
  {
   "cell_type": "code",
   "execution_count": 18,
   "metadata": {},
   "outputs": [],
   "source": [
    "# Splitting the data\n",
    "x_train, x_test, y_train, y_test = train_test_split(x,y,test_size=0.25)"
   ]
  },
  {
   "attachments": {},
   "cell_type": "markdown",
   "metadata": {},
   "source": [
    "## Data Analysis"
   ]
  },
  {
   "cell_type": "code",
   "execution_count": 19,
   "metadata": {},
   "outputs": [
    {
     "data": {
      "text/plain": [
       "1.0"
      ]
     },
     "execution_count": 19,
     "metadata": {},
     "output_type": "execute_result"
    }
   ],
   "source": [
    "# Trainging a logicstic regression model\n",
    "regr = LogisticRegression()\n",
    "\n",
    "regr.fit(x_train,y_train.ravel())\n",
    "\n",
    "regr.score(x_test,y_test)"
   ]
  },
  {
   "cell_type": "code",
   "execution_count": 20,
   "metadata": {},
   "outputs": [
    {
     "data": {
      "text/plain": [
       "array([1, 1, 1, 1, 1, 1, 0, 0, 0, 0, 0, 1, 0, 0, 0])"
      ]
     },
     "execution_count": 20,
     "metadata": {},
     "output_type": "execute_result"
    }
   ],
   "source": [
    "regr.predict(x)"
   ]
  }
 ],
 "metadata": {
  "kernelspec": {
   "display_name": "Transformer",
   "language": "python",
   "name": "python3"
  },
  "language_info": {
   "codemirror_mode": {
    "name": "ipython",
    "version": 3
   },
   "file_extension": ".py",
   "mimetype": "text/x-python",
   "name": "python",
   "nbconvert_exporter": "python",
   "pygments_lexer": "ipython3",
   "version": "3.9.16"
  },
  "orig_nbformat": 4
 },
 "nbformat": 4,
 "nbformat_minor": 2
}
