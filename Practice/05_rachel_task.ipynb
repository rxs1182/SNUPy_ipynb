{
 "cells": [
  {
   "attachments": {},
   "cell_type": "markdown",
   "metadata": {},
   "source": [
    "# Rachel Tjarksen EDA \n",
    "EDA Tasks for Rachel Tjarksen"
   ]
  },
  {
   "attachments": {},
   "cell_type": "markdown",
   "metadata": {},
   "source": [
    "You have been provided with two abridged datasets from FiveThirtyEight’s COVID-19 tracker. The datasets contain a list of opinion surveys fielded in the United States.  \n",
    "- Dataset1 has opinion polls on the Trump administration’s handling of the coronavirus pandemic.  \n",
    "- Dataset2 has opinion polls measuring respondents’ concerns, related either to the economy or infection from COVID-19.  "
   ]
  },
  {
   "attachments": {},
   "cell_type": "markdown",
   "metadata": {},
   "source": [
    "## Imports"
   ]
  },
  {
   "cell_type": "code",
   "execution_count": null,
   "metadata": {},
   "outputs": [],
   "source": [
    "# Add imports here"
   ]
  },
  {
   "attachments": {},
   "cell_type": "markdown",
   "metadata": {},
   "source": [
    "## Data Extraction"
   ]
  },
  {
   "cell_type": "code",
   "execution_count": null,
   "metadata": {},
   "outputs": [],
   "source": [
    "# Data Extraction Code from the csv files"
   ]
  },
  {
   "attachments": {},
   "cell_type": "markdown",
   "metadata": {},
   "source": [
    "## Task 1 (Data Preprocessing)"
   ]
  },
  {
   "attachments": {},
   "cell_type": "markdown",
   "metadata": {},
   "source": [
    "Your task is to familiarise yourself with the datasets, perform any necessary cleaning, and combine them into one dataset.   \n",
    "\n",
    "Before combining the datasets, here are a few things to keep in mind:  \n",
    "1. Since we are reporting aggregate statistics, we need to be able to weigh the responses from each poll, to generate a weighted average. This means that we should disregard polls that do not report sample sizes or report missing values in the response options. By response options we mean the variables that capture responses to the opinion polls.  \n",
    "2. For the purpose of this exercise, let us assume that our previous data indicates that a survey that has lower than 200 responses will be statistically underpowered, so please report results only for eligible studies.  \n",
    "3. Please ensure that the final dataset includes indicator variables that clearly mark which of the two original datasets the row originated from."
   ]
  },
  {
   "cell_type": "code",
   "execution_count": null,
   "metadata": {},
   "outputs": [],
   "source": [
    "# Preprocessing for Dataset 1"
   ]
  },
  {
   "cell_type": "code",
   "execution_count": null,
   "metadata": {},
   "outputs": [],
   "source": [
    "# Preprocessing for Dataset 2"
   ]
  },
  {
   "attachments": {},
   "cell_type": "markdown",
   "metadata": {},
   "source": [
    "## Task 2 (Simple Data Representation)"
   ]
  },
  {
   "attachments": {},
   "cell_type": "markdown",
   "metadata": {},
   "source": [
    "Following the completion of Task 1, please do the following subtasks:  \n",
    "1. A summary table to display the frequency of approval polls and concern polls conducted by each pollster.    \n",
    "2. Aggregated proportions of respondents approving of Donald Trump’s performance, delineated by whether the poll was asked to Democrats, Republicans or Independents.    \n",
    "3. Aggregated proportions of respondents who are very worried or somewhat worried about the economy.  \n",
    "4. Aggregated proportions of respondents who are very worried or somewhat worried about the infection from the coronavirus.  "
   ]
  },
  {
   "cell_type": "code",
   "execution_count": null,
   "metadata": {},
   "outputs": [],
   "source": [
    "# Code for Task 2.1"
   ]
  },
  {
   "cell_type": "code",
   "execution_count": null,
   "metadata": {},
   "outputs": [],
   "source": [
    "# Code for Task 2.2"
   ]
  },
  {
   "cell_type": "code",
   "execution_count": null,
   "metadata": {},
   "outputs": [],
   "source": [
    "# Code for Task 2.3"
   ]
  },
  {
   "cell_type": "code",
   "execution_count": null,
   "metadata": {},
   "outputs": [],
   "source": [
    "# Code for  Task 2.4"
   ]
  },
  {
   "attachments": {},
   "cell_type": "markdown",
   "metadata": {},
   "source": [
    "## Task 3 (Graphical Analysis)"
   ]
  },
  {
   "attachments": {},
   "cell_type": "markdown",
   "metadata": {},
   "source": [
    "## Task 4 (Data Analysis)"
   ]
  },
  {
   "attachments": {},
   "cell_type": "markdown",
   "metadata": {},
   "source": [
    "## Task 5 (Extra Task)"
   ]
  }
 ],
 "metadata": {
  "kernelspec": {
   "display_name": "Transformer",
   "language": "python",
   "name": "python3"
  },
  "language_info": {
   "name": "python",
   "version": "3.9.16"
  },
  "orig_nbformat": 4
 },
 "nbformat": 4,
 "nbformat_minor": 2
}
