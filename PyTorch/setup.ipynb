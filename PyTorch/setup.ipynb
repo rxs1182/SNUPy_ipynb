{
 "cells": [
  {
   "cell_type": "markdown",
   "metadata": {},
   "source": [
    "# PyTorch GPU setup"
   ]
  },
  {
   "cell_type": "code",
   "execution_count": 1,
   "metadata": {},
   "outputs": [
    {
     "name": "stdout",
     "output_type": "stream",
     "text": [
      "mps:0\n",
      "mps:0\n"
     ]
    }
   ],
   "source": [
    "import torch\n",
    "\n",
    "# defining the device\n",
    "mps_device = torch.device(\"mps\")\n",
    "\n",
    "# Create a Tensor directly on the mps device\n",
    "x = torch.ones(5, device=mps_device)\n",
    "\n",
    "x = torch.ones(5, device=\"mps\")\n",
    "\n",
    "# Any operation happens on the GPU\n",
    "y = x * 2\n",
    "\n",
    "print(x.device)\n",
    "print(y.device)"
   ]
  },
  {
   "cell_type": "code",
   "execution_count": null,
   "metadata": {},
   "outputs": [],
   "source": []
  }
 ],
 "metadata": {
  "kernelspec": {
   "display_name": "machinelearning",
   "language": "python",
   "name": "python3"
  },
  "language_info": {
   "codemirror_mode": {
    "name": "ipython",
    "version": 3
   },
   "file_extension": ".py",
   "mimetype": "text/x-python",
   "name": "python",
   "nbconvert_exporter": "python",
   "pygments_lexer": "ipython3",
   "version": "3.9.16"
  },
  "orig_nbformat": 4
 },
 "nbformat": 4,
 "nbformat_minor": 2
}
